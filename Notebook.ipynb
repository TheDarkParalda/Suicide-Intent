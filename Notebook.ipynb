{
 "cells": [
  {
   "cell_type": "markdown",
   "id": "bc870ca8",
   "metadata": {},
   "source": [
    "# Suicide Intent Checker\n",
    "\n",
    "## Model used : Hugging Face Zero Shot Classification Pipeline + Facebook's Bart\n",
    "\n",
    "Here we used hugging face pipeline along with the facebook bart to perform zero shot classification of text. We chose 5 primary labels out of which 2 of them corresponds to the suicidal intent and others to how one's day went. I gave input as a note of a person feeling suicidal at his/her parents house and returned a 52% confidence rate of suicidal thoughts."
   ]
  },
  {
   "cell_type": "code",
   "execution_count": 3,
   "id": "77b91c8a",
   "metadata": {},
   "outputs": [
    {
     "data": {
      "application/vnd.jupyter.widget-view+json": {
       "model_id": "c2bce0eaba1c45c0847196f613ad618d",
       "version_major": 2,
       "version_minor": 0
      },
      "text/plain": [
       "Downloading:   0%|          | 0.00/1.15k [00:00<?, ?B/s]"
      ]
     },
     "metadata": {},
     "output_type": "display_data"
    },
    {
     "name": "stderr",
     "output_type": "stream",
     "text": [
      "C:\\Users\\evanj\\anaconda3\\lib\\site-packages\\huggingface_hub\\file_download.py:123: UserWarning: `huggingface_hub` cache-system uses symlinks by default to efficiently store duplicated files but your machine does not support them in C:\\Users\\evanj\\.cache\\huggingface\\hub. Caching files will still work but in a degraded version that might require more space on your disk. This warning can be disabled by setting the `HF_HUB_DISABLE_SYMLINKS_WARNING` environment variable. For more details, see https://huggingface.co/docs/huggingface_hub/how-to-cache#limitations.\n",
      "To support symlinks on Windows, you either need to activate Developer Mode or to run Python as an administrator. In order to see activate developer mode, see this article: https://docs.microsoft.com/en-us/windows/apps/get-started/enable-your-device-for-development\n",
      "  warnings.warn(message)\n"
     ]
    },
    {
     "data": {
      "application/vnd.jupyter.widget-view+json": {
       "model_id": "ea13e541b38542abb41b5299d262cce7",
       "version_major": 2,
       "version_minor": 0
      },
      "text/plain": [
       "Downloading:   0%|          | 0.00/1.63G [00:00<?, ?B/s]"
      ]
     },
     "metadata": {},
     "output_type": "display_data"
    },
    {
     "data": {
      "application/vnd.jupyter.widget-view+json": {
       "model_id": "c1afe393f8724ab6a465d759bcdf8749",
       "version_major": 2,
       "version_minor": 0
      },
      "text/plain": [
       "Downloading:   0%|          | 0.00/26.0 [00:00<?, ?B/s]"
      ]
     },
     "metadata": {},
     "output_type": "display_data"
    },
    {
     "data": {
      "application/vnd.jupyter.widget-view+json": {
       "model_id": "99f4ab8effcb472683491ebd899a0281",
       "version_major": 2,
       "version_minor": 0
      },
      "text/plain": [
       "Downloading:   0%|          | 0.00/899k [00:00<?, ?B/s]"
      ]
     },
     "metadata": {},
     "output_type": "display_data"
    },
    {
     "data": {
      "application/vnd.jupyter.widget-view+json": {
       "model_id": "fe140bd3b6f94bf4a6c6b80835fd41ff",
       "version_major": 2,
       "version_minor": 0
      },
      "text/plain": [
       "Downloading:   0%|          | 0.00/456k [00:00<?, ?B/s]"
      ]
     },
     "metadata": {},
     "output_type": "display_data"
    },
    {
     "data": {
      "application/vnd.jupyter.widget-view+json": {
       "model_id": "c1ce35a82bd74a7782f4bbd40ce2bf9c",
       "version_major": 2,
       "version_minor": 0
      },
      "text/plain": [
       "Downloading:   0%|          | 0.00/1.36M [00:00<?, ?B/s]"
      ]
     },
     "metadata": {},
     "output_type": "display_data"
    }
   ],
   "source": [
    "#importing the HuggingFace transformers pipeline\n",
    "from transformers import pipeline\n",
    "\n",
    "#making the model and the classifier\n",
    "task = \"zero-shot-classification\"\n",
    "model = \"facebook/bart-large-mnli\" \n",
    "classifier = pipeline(task, model)"
   ]
  },
  {
   "cell_type": "code",
   "execution_count": 113,
   "id": "643dcd40",
   "metadata": {},
   "outputs": [],
   "source": [
    "# the labels\n",
    "labels = [\"kill myself\", \"want to die\",\"bad day\", \"good day\", \"normal day\"]"
   ]
  },
  {
   "cell_type": "code",
   "execution_count": 114,
   "id": "7204fe94",
   "metadata": {},
   "outputs": [],
   "source": [
    "# I couldn't make a big dataset of suicide not. If I did that the something is wrong with me.\n",
    "# And chatgpt cannot generate anything related to suicide. So i just copy pasted some text i found online.\n",
    "\n",
    "boo = \"Today, I felt good in the morning; everything was good, but in the evening, it rained, and as a result, I got stuck in traffic. My life sucks\""
   ]
  },
  {
   "cell_type": "code",
   "execution_count": 115,
   "id": "b08be9f0",
   "metadata": {
    "scrolled": true
   },
   "outputs": [
    {
     "name": "stdout",
     "output_type": "stream",
     "text": [
      "Today, I felt good in the morning; everything was good, but in the evening, it rained, and as a result, I got stuck in traffic. My life sucks\n",
      "['bad day', 'good day', 'want to die', 'normal day', 'kill myself']\n",
      "[0.8045548796653748, 0.13046394288539886, 0.03100006841123104, 0.025672297924757004, 0.008308825083076954]\n"
     ]
    }
   ],
   "source": [
    "input_text = boo\n",
    "print(input_text)\n",
    "# the model runs here \n",
    "classifier_output = classifier(input_text, labels)\n",
    "outputs = (classifier_output[\"labels\"]) \n",
    "scores = (classifier_output[\"scores\"])\n",
    "print(outputs)\n",
    "print(scores)"
   ]
  },
  {
   "cell_type": "code",
   "execution_count": 108,
   "id": "cc638dac",
   "metadata": {},
   "outputs": [
    {
     "name": "stdout",
     "output_type": "stream",
     "text": [
      "\u001b[1mThe Text Contains References to self-harm.\u001b[0m\n"
     ]
    }
   ],
   "source": [
    "# making a condition where if the person had a bad day and at the same time feels suicidal but the classifier classifies it to be a bad day more than suicidal then a special condition is made which flags them also as suicidal\n",
    "suicidal = outputs[0]==\"kill myself\" or outputs[0]==\"want to die\" or (outputs[0]==\"bad day\" and ((scores[outputs.indexOf(\"kill myself\")] - scores[outputs.indexOf(\"bad day\")] > - 0.07) or (scores[outputs.indexOf(\"want to die\")] - scores[outputs.indexOf(\"bad day\")] > - 0.07)))\n",
    "\n",
    "if suicidal:\n",
    "    print('\\033[1m' + \"The Text Contains References to self-harm.\" + '\\033[0m')"
   ]
  }
 ],
 "metadata": {
  "kernelspec": {
   "display_name": "Python 3 (ipykernel)",
   "language": "python",
   "name": "python3"
  },
  "language_info": {
   "codemirror_mode": {
    "name": "ipython",
    "version": 3
   },
   "file_extension": ".py",
   "mimetype": "text/x-python",
   "name": "python",
   "nbconvert_exporter": "python",
   "pygments_lexer": "ipython3",
   "version": "3.9.12"
  }
 },
 "nbformat": 4,
 "nbformat_minor": 5
}
