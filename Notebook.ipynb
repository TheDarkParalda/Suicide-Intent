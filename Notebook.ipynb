{
 "cells": [
  {
   "cell_type": "code",
   "execution_count": 2,
   "id": "703b5e3b",
   "metadata": {},
   "outputs": [],
   "source": [
    "import transformers as tr"
   ]
  },
  {
   "cell_type": "code",
   "execution_count": 3,
   "id": "10f053f5",
   "metadata": {},
   "outputs": [
    {
     "data": {
      "application/vnd.jupyter.widget-view+json": {
       "model_id": "c2bce0eaba1c45c0847196f613ad618d",
       "version_major": 2,
       "version_minor": 0
      },
      "text/plain": [
       "Downloading:   0%|          | 0.00/1.15k [00:00<?, ?B/s]"
      ]
     },
     "metadata": {},
     "output_type": "display_data"
    },
    {
     "name": "stderr",
     "output_type": "stream",
     "text": [
      "C:\\Users\\evanj\\anaconda3\\lib\\site-packages\\huggingface_hub\\file_download.py:123: UserWarning: `huggingface_hub` cache-system uses symlinks by default to efficiently store duplicated files but your machine does not support them in C:\\Users\\evanj\\.cache\\huggingface\\hub. Caching files will still work but in a degraded version that might require more space on your disk. This warning can be disabled by setting the `HF_HUB_DISABLE_SYMLINKS_WARNING` environment variable. For more details, see https://huggingface.co/docs/huggingface_hub/how-to-cache#limitations.\n",
      "To support symlinks on Windows, you either need to activate Developer Mode or to run Python as an administrator. In order to see activate developer mode, see this article: https://docs.microsoft.com/en-us/windows/apps/get-started/enable-your-device-for-development\n",
      "  warnings.warn(message)\n"
     ]
    },
    {
     "data": {
      "application/vnd.jupyter.widget-view+json": {
       "model_id": "ea13e541b38542abb41b5299d262cce7",
       "version_major": 2,
       "version_minor": 0
      },
      "text/plain": [
       "Downloading:   0%|          | 0.00/1.63G [00:00<?, ?B/s]"
      ]
     },
     "metadata": {},
     "output_type": "display_data"
    },
    {
     "data": {
      "application/vnd.jupyter.widget-view+json": {
       "model_id": "c1afe393f8724ab6a465d759bcdf8749",
       "version_major": 2,
       "version_minor": 0
      },
      "text/plain": [
       "Downloading:   0%|          | 0.00/26.0 [00:00<?, ?B/s]"
      ]
     },
     "metadata": {},
     "output_type": "display_data"
    },
    {
     "data": {
      "application/vnd.jupyter.widget-view+json": {
       "model_id": "99f4ab8effcb472683491ebd899a0281",
       "version_major": 2,
       "version_minor": 0
      },
      "text/plain": [
       "Downloading:   0%|          | 0.00/899k [00:00<?, ?B/s]"
      ]
     },
     "metadata": {},
     "output_type": "display_data"
    },
    {
     "data": {
      "application/vnd.jupyter.widget-view+json": {
       "model_id": "fe140bd3b6f94bf4a6c6b80835fd41ff",
       "version_major": 2,
       "version_minor": 0
      },
      "text/plain": [
       "Downloading:   0%|          | 0.00/456k [00:00<?, ?B/s]"
      ]
     },
     "metadata": {},
     "output_type": "display_data"
    },
    {
     "data": {
      "application/vnd.jupyter.widget-view+json": {
       "model_id": "c1ce35a82bd74a7782f4bbd40ce2bf9c",
       "version_major": 2,
       "version_minor": 0
      },
      "text/plain": [
       "Downloading:   0%|          | 0.00/1.36M [00:00<?, ?B/s]"
      ]
     },
     "metadata": {},
     "output_type": "display_data"
    }
   ],
   "source": [
    "from transformers import pipeline\n",
    "\n",
    "task = \"zero-shot-classification\"\n",
    "model = \"facebook/bart-large-mnli\" \n",
    "classifier = pipeline(task, model)"
   ]
  },
  {
   "cell_type": "code",
   "execution_count": 97,
   "id": "2082cd3c",
   "metadata": {},
   "outputs": [],
   "source": [
    "primary_labels = [\"kill myself\", \"want to die\",\"bad day\", \"good day\", \"normal day\"]"
   ]
  },
  {
   "cell_type": "code",
   "execution_count": 98,
   "id": "148ba1ad",
   "metadata": {},
   "outputs": [],
   "source": [
    "import pandas as pd\n",
    "\n",
    "DATASET_PATH = r\"C:\\Users\\evanj\\Downloads\\archive\"\n",
    "data1 = pd.read_csv(DATASET_PATH + r\"\\bbb.csv\", header=None)\n",
    "data2 = pd.read_csv(DATASET_PATH + r\"\\test.csv\")\n",
    "data2 = data2[\"text\"]"
   ]
  },
  {
   "cell_type": "code",
   "execution_count": 99,
   "id": "52f90724",
   "metadata": {},
   "outputs": [],
   "source": [
    "boo = \"I'm stuck in my parents' house because of quarantine, and I just realize that there's a rope in their store room and I can hang myself up anytime, especially at night because they are all asleep. I've been itching to do it since forever but I have no access to anything back then.\""
   ]
  },
  {
   "cell_type": "code",
   "execution_count": 100,
   "id": "8e8f6d01",
   "metadata": {
    "scrolled": true
   },
   "outputs": [
    {
     "name": "stdout",
     "output_type": "stream",
     "text": [
      "I'm stuck in my parents' house because of quarantine, and I just realize that there's a rope in their store room and I can hang myself up anytime, especially at night because they are all asleep. I've been itching to do it since forever but I have no access to anything back then.\n",
      "['kill myself', 'want to die', 'bad day', 'good day', 'normal day']\n",
      "[0.5256850719451904, 0.2480819672346115, 0.18235383927822113, 0.03494320437312126, 0.008935865014791489]\n"
     ]
    }
   ],
   "source": [
    "input_text = boo\n",
    "print(input_text)\n",
    "\n",
    "classifier_output = classifier(input_text, primary_labels)\n",
    "print(classifier_output[\"labels\"]) \n",
    "print(classifier_output[\"scores\"])"
   ]
  },
  {
   "cell_type": "code",
   "execution_count": null,
   "id": "39444e42",
   "metadata": {},
   "outputs": [],
   "source": []
  }
 ],
 "metadata": {
  "kernelspec": {
   "display_name": "Python 3 (ipykernel)",
   "language": "python",
   "name": "python3"
  },
  "language_info": {
   "codemirror_mode": {
    "name": "ipython",
    "version": 3
   },
   "file_extension": ".py",
   "mimetype": "text/x-python",
   "name": "python",
   "nbconvert_exporter": "python",
   "pygments_lexer": "ipython3",
   "version": "3.9.12"
  }
 },
 "nbformat": 4,
 "nbformat_minor": 5
}
